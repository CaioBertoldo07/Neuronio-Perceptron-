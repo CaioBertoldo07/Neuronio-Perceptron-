{
 "cells": [
  {
   "cell_type": "markdown",
   "id": "2479ba2e",
   "metadata": {},
   "source": [
    "|Alunos                |Matrícula  |\n",
    "|----------------------|-----------|\n",
    "|Caio Bertoldo         |2215080050 |\n",
    "|Danilo Jorge          |           |\n",
    "|Diogo Gomes           |2215080033 |\n",
    "|Guilherme Montenegro  |2215080011 |\n",
    "|Leonardo Abinader     |           |"
   ]
  },
  {
   "cell_type": "code",
   "execution_count": 1,
   "id": "a0008754",
   "metadata": {},
   "outputs": [],
   "source": [
    "import numpy as np"
   ]
  },
  {
   "cell_type": "code",
   "execution_count": 2,
   "id": "304be9ce",
   "metadata": {},
   "outputs": [],
   "source": [
    "eta1 = 0.4\n",
    "eta2 = 0.1\n",
    "eta3 = 0.01"
   ]
  },
  {
   "cell_type": "code",
   "execution_count": 3,
   "id": "ffab1a74",
   "metadata": {},
   "outputs": [],
   "source": [
    "i1 = np.random.uniform(low=-0.5, high=0.5, size=2)\n",
    "i2 = np.random.uniform(low=-100, high=100, size=2)"
   ]
  },
  {
   "cell_type": "code",
   "execution_count": 4,
   "id": "33e382a3",
   "metadata": {},
   "outputs": [],
   "source": [
    "class Perceptron:\n",
    "    def __init__(self, learning_rate=0.1, epochs=100, weights=None):\n",
    "        self.learning_rate = learning_rate\n",
    "        self.epochs = epochs\n",
    "        self.weights = weights\n",
    "        self.bias = None\n",
    "        self.necessary_epochs = None\n",
    "        self.total_adjust = 0\n",
    "    \n",
    "    def step(self, x):\n",
    "        return 1 if x >= 0 else 0\n",
    "\n",
    "    def check_error(self, y_predicted, y):\n",
    "        return  y_predicted != y\n",
    "\n",
    "    def fit(self, X, y):\n",
    "        if self.weights is None:\n",
    "            self.weights = np.random.uniform(low=-0.5, high=0.5, size=2)\n",
    "        print(\"Pesos iniciais: \", self.weights)\n",
    "        self.bias = 0\n",
    "        self.necessary_epochs = 0\n",
    "        \n",
    "\n",
    "        for _ in range(self.epochs):\n",
    "            self.necessary_epochs +=1\n",
    "            error_counter = 0\n",
    "            for idx, x_i in enumerate(X):\n",
    "                linear_output = np.dot(x_i, self.weights) + self.bias\n",
    "                y_predicted = self.step(linear_output)\n",
    "                if(self.check_error(y_predicted, y[idx])):\n",
    "                    \n",
    "                    update = self.learning_rate * (y[idx] - y_predicted)\n",
    "                    self.weights += update * x_i\n",
    "                    self.bias += update\n",
    "                    error_counter +=1\n",
    "                    self.total_adjust+=1\n",
    "                else:\n",
    "                    pass\n",
    "            if error_counter == 0:\n",
    "                return\n",
    "\n",
    "    def predict(self, X):\n",
    "        return np.array([self.step(np.dot(X[i], self.weights) + self.bias) for i in range(X.shape[0])])\n"
   ]
  }
 ],
 "metadata": {
  "kernelspec": {
   "display_name": "pydata-book",
   "language": "python",
   "name": "python3"
  },
  "language_info": {
   "codemirror_mode": {
    "name": "ipython",
    "version": 3
   },
   "file_extension": ".py",
   "mimetype": "text/x-python",
   "name": "python",
   "nbconvert_exporter": "python",
   "pygments_lexer": "ipython3",
   "version": "3.12.9"
  }
 },
 "nbformat": 4,
 "nbformat_minor": 5
}
