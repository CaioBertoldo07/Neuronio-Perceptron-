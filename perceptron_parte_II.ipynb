{
 "cells": [
  {
   "cell_type": "markdown",
   "id": "2479ba2e",
   "metadata": {},
   "source": [
    "|Alunos                |Matrícula  |\n",
    "|----------------------|-----------|\n",
    "|Caio Bertoldo         |2215080050 |\n",
    "|Danilo Jorge          |2215080007 |\n",
    "|Diogo Gomes           |2215080033 |\n",
    "|Guilherme Montenegro  |2215080011 |\n",
    "|Leonardo Abinader     |2215080042 |"
   ]
  },
  {
   "cell_type": "code",
   "execution_count": 54,
   "id": "a0008754",
   "metadata": {},
   "outputs": [],
   "source": [
    "import numpy as np"
   ]
  },
  {
   "cell_type": "code",
   "execution_count": 55,
   "id": "f79ae7aa",
   "metadata": {},
   "outputs": [
    {
     "data": {
      "text/plain": [
       "1"
      ]
     },
     "execution_count": 55,
     "metadata": {},
     "output_type": "execute_result"
    }
   ],
   "source": [
    "# Verificando qual .txt usar\n",
    "n = (0 + 7 + 3 + 1 + 2) % 4\n",
    "n"
   ]
  },
  {
   "cell_type": "markdown",
   "id": "cf8204e1",
   "metadata": {},
   "source": [
    "### Verificando os dados"
   ]
  },
  {
   "cell_type": "code",
   "execution_count": 56,
   "id": "15bcc5d0",
   "metadata": {},
   "outputs": [
    {
     "data": {
      "text/plain": [
       "array([ 0.13658687, -0.16460088,  0.        , ...,  0.99252852,\n",
       "        1.06937678,  1.        ], shape=(1800,))"
      ]
     },
     "execution_count": 56,
     "metadata": {},
     "output_type": "execute_result"
    }
   ],
   "source": [
    "dados = np.fromfile('rna-2025.1-pp2.1-dados/data1.txt')\n",
    "dados"
   ]
  },
  {
   "cell_type": "code",
   "execution_count": 57,
   "id": "eef7bf5c",
   "metadata": {},
   "outputs": [
    {
     "name": "stdout",
     "output_type": "stream",
     "text": [
      "(600, 1, 3)\n",
      "float64\n"
     ]
    }
   ],
   "source": [
    "m = dados.size//3\n",
    "dados = dados.reshape((m,1,3))\n",
    "print(dados.shape)\n",
    "print(dados.dtype)"
   ]
  },
  {
   "cell_type": "code",
   "execution_count": 58,
   "id": "6880a0c1",
   "metadata": {},
   "outputs": [
    {
     "data": {
      "text/plain": [
       "array([[[ 0.13658687, -0.16460088,  0.        ]],\n",
       "\n",
       "       [[-0.0228559 , -0.01094684,  0.        ]],\n",
       "\n",
       "       [[-0.02654897,  0.00582183,  0.        ]],\n",
       "\n",
       "       ...,\n",
       "\n",
       "       [[ 0.99007304,  0.8921047 ,  1.        ]],\n",
       "\n",
       "       [[ 0.91691441,  1.15684083,  1.        ]],\n",
       "\n",
       "       [[ 0.99252852,  1.06937678,  1.        ]]], shape=(600, 1, 3))"
      ]
     },
     "execution_count": 58,
     "metadata": {},
     "output_type": "execute_result"
    }
   ],
   "source": [
    "dados"
   ]
  },
  {
   "cell_type": "code",
   "execution_count": 59,
   "id": "8f290386",
   "metadata": {},
   "outputs": [],
   "source": [
    "X = np.array([[linha[0][0], linha[0][1]] for linha in dados])\n",
    "y = np.array([[linha[0][2]] for linha in dados]).ravel()"
   ]
  },
  {
   "cell_type": "code",
   "execution_count": 60,
   "id": "d458f9c0",
   "metadata": {},
   "outputs": [
    {
     "data": {
      "text/plain": [
       "array([[ 0.13658687, -0.16460088],\n",
       "       [-0.0228559 , -0.01094684],\n",
       "       [-0.02654897,  0.00582183],\n",
       "       ...,\n",
       "       [ 0.99007304,  0.8921047 ],\n",
       "       [ 0.91691441,  1.15684083],\n",
       "       [ 0.99252852,  1.06937678]], shape=(600, 2))"
      ]
     },
     "execution_count": 60,
     "metadata": {},
     "output_type": "execute_result"
    }
   ],
   "source": [
    "X"
   ]
  },
  {
   "cell_type": "code",
   "execution_count": 61,
   "id": "6656a695",
   "metadata": {},
   "outputs": [
    {
     "data": {
      "text/plain": [
       "array([0., 0., 0., 0., 0., 0., 0., 0., 0., 0., 0., 0., 0., 0., 0., 0., 0.,\n",
       "       0., 0., 0., 0., 0., 0., 0., 0., 0., 0., 0., 0., 0., 0., 0., 0., 0.,\n",
       "       0., 0., 0., 0., 0., 0., 0., 0., 0., 0., 0., 0., 0., 0., 0., 0., 0.,\n",
       "       0., 0., 0., 0., 0., 0., 0., 0., 0., 0., 0., 0., 0., 0., 0., 0., 0.,\n",
       "       0., 0., 0., 0., 0., 0., 0., 0., 0., 0., 0., 0., 0., 0., 0., 0., 0.,\n",
       "       0., 0., 0., 0., 0., 0., 0., 0., 0., 0., 0., 0., 0., 0., 0., 0., 0.,\n",
       "       0., 0., 0., 0., 0., 0., 0., 0., 0., 0., 0., 0., 0., 0., 0., 0., 0.,\n",
       "       0., 0., 0., 0., 0., 0., 0., 0., 0., 0., 0., 0., 0., 0., 0., 0., 0.,\n",
       "       0., 0., 0., 0., 0., 0., 0., 0., 0., 0., 0., 0., 0., 0., 0., 0., 0.,\n",
       "       0., 0., 0., 0., 0., 0., 0., 0., 0., 0., 0., 0., 0., 0., 0., 0., 0.,\n",
       "       0., 0., 0., 0., 0., 0., 0., 0., 0., 0., 0., 0., 0., 0., 0., 0., 0.,\n",
       "       0., 0., 0., 0., 0., 0., 0., 0., 0., 0., 0., 0., 0., 0., 0., 0., 0.,\n",
       "       0., 0., 0., 0., 0., 0., 0., 0., 0., 0., 0., 0., 0., 0., 0., 0., 0.,\n",
       "       0., 0., 0., 0., 0., 0., 0., 0., 0., 0., 0., 0., 0., 0., 0., 0., 0.,\n",
       "       0., 0., 0., 0., 0., 0., 0., 0., 0., 0., 0., 0., 0., 0., 0., 0., 0.,\n",
       "       0., 0., 0., 0., 0., 0., 0., 0., 0., 0., 0., 0., 0., 0., 0., 0., 0.,\n",
       "       0., 0., 0., 0., 0., 0., 0., 0., 0., 0., 0., 0., 0., 0., 0., 0., 0.,\n",
       "       0., 0., 0., 0., 0., 0., 0., 0., 0., 0., 0., 0., 0., 0., 0., 0., 0.,\n",
       "       0., 0., 0., 0., 0., 0., 0., 0., 0., 0., 0., 0., 0., 0., 0., 0., 0.,\n",
       "       0., 0., 0., 0., 0., 0., 0., 0., 0., 0., 0., 0., 0., 0., 0., 0., 0.,\n",
       "       0., 0., 0., 0., 0., 0., 0., 0., 0., 0., 0., 0., 0., 0., 0., 0., 0.,\n",
       "       0., 0., 0., 0., 0., 0., 0., 0., 0., 0., 0., 0., 0., 0., 0., 0., 0.,\n",
       "       0., 0., 0., 0., 0., 0., 0., 0., 0., 0., 0., 0., 0., 0., 0., 0., 0.,\n",
       "       0., 0., 0., 0., 0., 0., 0., 0., 0., 0., 0., 0., 0., 0., 0., 0., 0.,\n",
       "       0., 0., 0., 0., 0., 0., 0., 0., 0., 0., 0., 0., 0., 0., 0., 0., 0.,\n",
       "       0., 0., 0., 0., 0., 0., 0., 0., 0., 0., 0., 0., 0., 0., 0., 0., 0.,\n",
       "       0., 0., 0., 0., 0., 0., 0., 0., 1., 1., 1., 1., 1., 1., 1., 1., 1.,\n",
       "       1., 1., 1., 1., 1., 1., 1., 1., 1., 1., 1., 1., 1., 1., 1., 1., 1.,\n",
       "       1., 1., 1., 1., 1., 1., 1., 1., 1., 1., 1., 1., 1., 1., 1., 1., 1.,\n",
       "       1., 1., 1., 1., 1., 1., 1., 1., 1., 1., 1., 1., 1., 1., 1., 1., 1.,\n",
       "       1., 1., 1., 1., 1., 1., 1., 1., 1., 1., 1., 1., 1., 1., 1., 1., 1.,\n",
       "       1., 1., 1., 1., 1., 1., 1., 1., 1., 1., 1., 1., 1., 1., 1., 1., 1.,\n",
       "       1., 1., 1., 1., 1., 1., 1., 1., 1., 1., 1., 1., 1., 1., 1., 1., 1.,\n",
       "       1., 1., 1., 1., 1., 1., 1., 1., 1., 1., 1., 1., 1., 1., 1., 1., 1.,\n",
       "       1., 1., 1., 1., 1., 1., 1., 1., 1., 1., 1., 1., 1., 1., 1., 1., 1.,\n",
       "       1., 1., 1., 1., 1.])"
      ]
     },
     "execution_count": 61,
     "metadata": {},
     "output_type": "execute_result"
    }
   ],
   "source": [
    "y"
   ]
  },
  {
   "cell_type": "markdown",
   "id": "852e3ca0",
   "metadata": {},
   "source": [
    "### Perceptron"
   ]
  },
  {
   "cell_type": "code",
   "execution_count": 62,
   "id": "33e382a3",
   "metadata": {},
   "outputs": [],
   "source": [
    "class Perceptron:\n",
    "    def __init__(self, learning_rate=0.1, epochs=100, weights=None):\n",
    "        self.learning_rate = learning_rate\n",
    "        self.epochs = epochs\n",
    "        self.weights = weights\n",
    "        self.bias = None\n",
    "        self.necessary_epochs = None\n",
    "        self.total_adjust = 0\n",
    "    \n",
    "    def step(self, x):\n",
    "        return 1 if x >= 0 else 0\n",
    "\n",
    "    def check_error(self, y_predicted, y):\n",
    "        return  y_predicted != y\n",
    "\n",
    "    def fit(self, X, y):\n",
    "        if self.weights is None:\n",
    "            self.weights = np.random.uniform(low=-0.5, high=0.5, size=2)\n",
    "        # print(\"Pesos iniciais: \", self.weights)\n",
    "        self.bias = 0\n",
    "        self.necessary_epochs = 0\n",
    "        \n",
    "\n",
    "        for _ in range(self.epochs):\n",
    "            self.necessary_epochs +=1\n",
    "            error_counter = 0\n",
    "            for idx, x_i in enumerate(X):\n",
    "                linear_output = np.dot(x_i, self.weights) + self.bias\n",
    "                y_predicted = self.step(linear_output)\n",
    "                if(self.check_error(y_predicted, y[idx])):\n",
    "                    \n",
    "                    update = self.learning_rate * (y[idx] - y_predicted)\n",
    "                    self.weights += update * x_i\n",
    "                    self.bias += update\n",
    "                    error_counter +=1\n",
    "                    self.total_adjust+=1\n",
    "                else:\n",
    "                    pass\n",
    "            if error_counter == 0:\n",
    "                return\n",
    "\n",
    "    def predict(self, X):\n",
    "        return np.array([self.step(np.dot(X[i], self.weights) + self.bias) for i in range(X.shape[0])])\n"
   ]
  },
  {
   "cell_type": "markdown",
   "id": "84349e88",
   "metadata": {},
   "source": [
    "### Testes"
   ]
  },
  {
   "cell_type": "code",
   "execution_count": 63,
   "id": "c887f3ed",
   "metadata": {},
   "outputs": [],
   "source": [
    "# eta e intervalos\n",
    "eta1 = 0.4\n",
    "eta2 = 0.1\n",
    "eta3 = 0.01\n",
    "i1 = [-0.5, 0.5]\n",
    "i2 = [-100, 100]"
   ]
  },
  {
   "cell_type": "code",
   "execution_count": 64,
   "id": "af4b8f33",
   "metadata": {},
   "outputs": [],
   "source": [
    "# Função para realizar as 10 execuções com as 6 configurações\n",
    "def test(eta, i):\n",
    "    min_epochs = float('inf')\n",
    "    list_total_adjust = []\n",
    "\n",
    "    for _ in range(10):\n",
    "        perceptron = Perceptron(learning_rate=eta, weights=np.random.uniform(low=i[0], high=i[1], size=2))\n",
    "        perceptron.fit(X, y)\n",
    "        list_total_adjust.append(perceptron.total_adjust)\n",
    "        min_epochs = min(min_epochs, perceptron.necessary_epochs)\n",
    "\n",
    "    mean = np.mean(list_total_adjust) \n",
    "    std = np.std(list_total_adjust)\n",
    "\n",
    "    return min_epochs, mean, std"
   ]
  },
  {
   "cell_type": "code",
   "execution_count": 65,
   "id": "473e39b3",
   "metadata": {},
   "outputs": [
    {
     "name": "stdout",
     "output_type": "stream",
     "text": [
      "Mínimo de épocas necessárias: 4\n",
      "Média do total de ajustes: 34.5\n",
      "Desvio padrão do total de ajustes: 13.230646242719969\n"
     ]
    }
   ],
   "source": [
    "# eta = 0.4 e intervalo [-0.5, 0.5]\n",
    "min_epochs1, mean1, std1 = test(eta1, i1)\n",
    "print(f\"Mínimo de épocas necessárias: {min_epochs1}\")\n",
    "print(f\"Média do total de ajustes: {mean1}\")\n",
    "print(f\"Desvio padrão do total de ajustes: {std1}\")"
   ]
  },
  {
   "cell_type": "code",
   "execution_count": 66,
   "id": "e237cc0b",
   "metadata": {},
   "outputs": [
    {
     "name": "stdout",
     "output_type": "stream",
     "text": [
      "Mínimo de épocas necessárias: 3\n",
      "Média do total de ajustes: 393.3\n",
      "Desvio padrão do total de ajustes: 183.76563879028092\n"
     ]
    }
   ],
   "source": [
    "# eta = 0.4 e intervalo [-100, 100]\n",
    "min_epochs2, mean2, std2 = test(eta1, i2)\n",
    "print(f\"Mínimo de épocas necessárias: {min_epochs2}\")\n",
    "print(f\"Média do total de ajustes: {mean2}\")\n",
    "print(f\"Desvio padrão do total de ajustes: {std2}\")"
   ]
  },
  {
   "cell_type": "code",
   "execution_count": 67,
   "id": "06df17b9",
   "metadata": {},
   "outputs": [
    {
     "name": "stdout",
     "output_type": "stream",
     "text": [
      "Mínimo de épocas necessárias: 3\n",
      "Média do total de ajustes: 30.4\n",
      "Desvio padrão do total de ajustes: 12.839003076563227\n"
     ]
    }
   ],
   "source": [
    "# eta = 0.1 e intervalo [-0.5, 0.5]\n",
    "min_epochs3, mean3, std3 = test(eta2, i1)\n",
    "print(f\"Mínimo de épocas necessárias: {min_epochs3}\")\n",
    "print(f\"Média do total de ajustes: {mean3}\")\n",
    "print(f\"Desvio padrão do total de ajustes: {std3}\")"
   ]
  },
  {
   "cell_type": "code",
   "execution_count": 68,
   "id": "33715d90",
   "metadata": {},
   "outputs": [
    {
     "name": "stdout",
     "output_type": "stream",
     "text": [
      "Mínimo de épocas necessárias: 15\n",
      "Média do total de ajustes: 1036.0\n",
      "Desvio padrão do total de ajustes: 372.35896659003663\n"
     ]
    }
   ],
   "source": [
    "# eta = 0.1 e intervalo [-100, 100]\n",
    "min_epochs4, mean4, std4 = test(eta2, i2)\n",
    "print(f\"Mínimo de épocas necessárias: {min_epochs4}\")\n",
    "print(f\"Média do total de ajustes: {mean4}\")\n",
    "print(f\"Desvio padrão do total de ajustes: {std4}\")"
   ]
  },
  {
   "cell_type": "code",
   "execution_count": 69,
   "id": "d79a60d0",
   "metadata": {},
   "outputs": [
    {
     "name": "stdout",
     "output_type": "stream",
     "text": [
      "Mínimo de épocas necessárias: 2\n",
      "Média do total de ajustes: 67.0\n",
      "Desvio padrão do total de ajustes: 35.908216329971054\n"
     ]
    }
   ],
   "source": [
    "# eta = 0.01 e intervalo [-0.5, 0.5]\n",
    "min_epochs5, mean5, std5 = test(eta3, i1)\n",
    "print(f\"Mínimo de épocas necessárias: {min_epochs5}\")\n",
    "print(f\"Média do total de ajustes: {mean5}\")\n",
    "print(f\"Desvio padrão do total de ajustes: {std5}\")"
   ]
  },
  {
   "cell_type": "code",
   "execution_count": 70,
   "id": "af260a77",
   "metadata": {},
   "outputs": [
    {
     "name": "stdout",
     "output_type": "stream",
     "text": [
      "Mínimo de épocas necessárias: 62\n",
      "Média do total de ajustes: 10060.3\n",
      "Desvio padrão do total de ajustes: 4969.520883344791\n"
     ]
    }
   ],
   "source": [
    "# eta = 0.01 e intervalo [-100, 100]\n",
    "min_epochs6, mean6, std6 = test(eta3, i2)\n",
    "print(f\"Mínimo de épocas necessárias: {min_epochs6}\")\n",
    "print(f\"Média do total de ajustes: {mean6}\")\n",
    "print(f\"Desvio padrão do total de ajustes: {std6}\")"
   ]
  }
 ],
 "metadata": {
  "kernelspec": {
   "display_name": "pydata-book",
   "language": "python",
   "name": "python3"
  },
  "language_info": {
   "codemirror_mode": {
    "name": "ipython",
    "version": 3
   },
   "file_extension": ".py",
   "mimetype": "text/x-python",
   "name": "python",
   "nbconvert_exporter": "python",
   "pygments_lexer": "ipython3",
   "version": "3.12.9"
  }
 },
 "nbformat": 4,
 "nbformat_minor": 5
}
