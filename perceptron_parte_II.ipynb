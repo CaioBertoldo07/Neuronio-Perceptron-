{
 "cells": [
  {
   "cell_type": "markdown",
   "id": "2479ba2e",
   "metadata": {},
   "source": [
    "|Alunos                |Matrícula  |\n",
    "|----------------------|-----------|\n",
    "|Caio Bertoldo         |2215080050 |\n",
    "|Danilo Jorge          |2215080007 |\n",
    "|Diogo Gomes           |2215080033 |\n",
    "|Guilherme Montenegro  |2215080011 |\n",
    "|Leonardo Abinader     |2215080042 |"
   ]
  },
  {
   "cell_type": "code",
   "execution_count": 112,
   "id": "a0008754",
   "metadata": {},
   "outputs": [],
   "source": [
    "import numpy as np\n",
    "from prettytable import PrettyTable, TableStyle"
   ]
  },
  {
   "cell_type": "code",
   "execution_count": 113,
   "id": "f79ae7aa",
   "metadata": {},
   "outputs": [
    {
     "data": {
      "text/plain": [
       "1"
      ]
     },
     "execution_count": 113,
     "metadata": {},
     "output_type": "execute_result"
    }
   ],
   "source": [
    "# Verificando qual .txt usar\n",
    "n = (0 + 7 + 3 + 1 + 2) % 4\n",
    "n"
   ]
  },
  {
   "cell_type": "markdown",
   "id": "cf8204e1",
   "metadata": {},
   "source": [
    "### Verificando os dados"
   ]
  },
  {
   "cell_type": "code",
   "execution_count": 114,
   "id": "15bcc5d0",
   "metadata": {},
   "outputs": [
    {
     "data": {
      "text/plain": [
       "array([ 0.13658687, -0.16460088,  0.        , ...,  0.99252852,\n",
       "        1.06937678,  1.        ])"
      ]
     },
     "execution_count": 114,
     "metadata": {},
     "output_type": "execute_result"
    }
   ],
   "source": [
    "dados = np.fromfile('rna-2025.1-pp2.1-dados/data1.txt')\n",
    "dados"
   ]
  },
  {
   "cell_type": "code",
   "execution_count": 115,
   "id": "eef7bf5c",
   "metadata": {},
   "outputs": [
    {
     "name": "stdout",
     "output_type": "stream",
     "text": [
      "(600, 1, 3)\n",
      "float64\n"
     ]
    }
   ],
   "source": [
    "m = dados.size//3\n",
    "dados = dados.reshape((m,1,3))\n",
    "print(dados.shape)\n",
    "print(dados.dtype)"
   ]
  },
  {
   "cell_type": "code",
   "execution_count": 116,
   "id": "6880a0c1",
   "metadata": {},
   "outputs": [
    {
     "data": {
      "text/plain": [
       "array([[[ 0.13658687, -0.16460088,  0.        ]],\n",
       "\n",
       "       [[-0.0228559 , -0.01094684,  0.        ]],\n",
       "\n",
       "       [[-0.02654897,  0.00582183,  0.        ]],\n",
       "\n",
       "       ...,\n",
       "\n",
       "       [[ 0.99007304,  0.8921047 ,  1.        ]],\n",
       "\n",
       "       [[ 0.91691441,  1.15684083,  1.        ]],\n",
       "\n",
       "       [[ 0.99252852,  1.06937678,  1.        ]]])"
      ]
     },
     "execution_count": 116,
     "metadata": {},
     "output_type": "execute_result"
    }
   ],
   "source": [
    "dados"
   ]
  },
  {
   "cell_type": "code",
   "execution_count": 117,
   "id": "8f290386",
   "metadata": {},
   "outputs": [],
   "source": [
    "X = np.array([[linha[0][0], linha[0][1]] for linha in dados])\n",
    "y = np.array([[linha[0][2]] for linha in dados]).ravel()"
   ]
  },
  {
   "cell_type": "code",
   "execution_count": 118,
   "id": "d458f9c0",
   "metadata": {},
   "outputs": [
    {
     "data": {
      "text/plain": [
       "array([[ 0.13658687, -0.16460088],\n",
       "       [-0.0228559 , -0.01094684],\n",
       "       [-0.02654897,  0.00582183],\n",
       "       ...,\n",
       "       [ 0.99007304,  0.8921047 ],\n",
       "       [ 0.91691441,  1.15684083],\n",
       "       [ 0.99252852,  1.06937678]])"
      ]
     },
     "execution_count": 118,
     "metadata": {},
     "output_type": "execute_result"
    }
   ],
   "source": [
    "X"
   ]
  },
  {
   "cell_type": "code",
   "execution_count": 119,
   "id": "6656a695",
   "metadata": {},
   "outputs": [
    {
     "data": {
      "text/plain": [
       "array([0., 0., 0., 0., 0., 0., 0., 0., 0., 0., 0., 0., 0., 0., 0., 0., 0.,\n",
       "       0., 0., 0., 0., 0., 0., 0., 0., 0., 0., 0., 0., 0., 0., 0., 0., 0.,\n",
       "       0., 0., 0., 0., 0., 0., 0., 0., 0., 0., 0., 0., 0., 0., 0., 0., 0.,\n",
       "       0., 0., 0., 0., 0., 0., 0., 0., 0., 0., 0., 0., 0., 0., 0., 0., 0.,\n",
       "       0., 0., 0., 0., 0., 0., 0., 0., 0., 0., 0., 0., 0., 0., 0., 0., 0.,\n",
       "       0., 0., 0., 0., 0., 0., 0., 0., 0., 0., 0., 0., 0., 0., 0., 0., 0.,\n",
       "       0., 0., 0., 0., 0., 0., 0., 0., 0., 0., 0., 0., 0., 0., 0., 0., 0.,\n",
       "       0., 0., 0., 0., 0., 0., 0., 0., 0., 0., 0., 0., 0., 0., 0., 0., 0.,\n",
       "       0., 0., 0., 0., 0., 0., 0., 0., 0., 0., 0., 0., 0., 0., 0., 0., 0.,\n",
       "       0., 0., 0., 0., 0., 0., 0., 0., 0., 0., 0., 0., 0., 0., 0., 0., 0.,\n",
       "       0., 0., 0., 0., 0., 0., 0., 0., 0., 0., 0., 0., 0., 0., 0., 0., 0.,\n",
       "       0., 0., 0., 0., 0., 0., 0., 0., 0., 0., 0., 0., 0., 0., 0., 0., 0.,\n",
       "       0., 0., 0., 0., 0., 0., 0., 0., 0., 0., 0., 0., 0., 0., 0., 0., 0.,\n",
       "       0., 0., 0., 0., 0., 0., 0., 0., 0., 0., 0., 0., 0., 0., 0., 0., 0.,\n",
       "       0., 0., 0., 0., 0., 0., 0., 0., 0., 0., 0., 0., 0., 0., 0., 0., 0.,\n",
       "       0., 0., 0., 0., 0., 0., 0., 0., 0., 0., 0., 0., 0., 0., 0., 0., 0.,\n",
       "       0., 0., 0., 0., 0., 0., 0., 0., 0., 0., 0., 0., 0., 0., 0., 0., 0.,\n",
       "       0., 0., 0., 0., 0., 0., 0., 0., 0., 0., 0., 0., 0., 0., 0., 0., 0.,\n",
       "       0., 0., 0., 0., 0., 0., 0., 0., 0., 0., 0., 0., 0., 0., 0., 0., 0.,\n",
       "       0., 0., 0., 0., 0., 0., 0., 0., 0., 0., 0., 0., 0., 0., 0., 0., 0.,\n",
       "       0., 0., 0., 0., 0., 0., 0., 0., 0., 0., 0., 0., 0., 0., 0., 0., 0.,\n",
       "       0., 0., 0., 0., 0., 0., 0., 0., 0., 0., 0., 0., 0., 0., 0., 0., 0.,\n",
       "       0., 0., 0., 0., 0., 0., 0., 0., 0., 0., 0., 0., 0., 0., 0., 0., 0.,\n",
       "       0., 0., 0., 0., 0., 0., 0., 0., 0., 0., 0., 0., 0., 0., 0., 0., 0.,\n",
       "       0., 0., 0., 0., 0., 0., 0., 0., 0., 0., 0., 0., 0., 0., 0., 0., 0.,\n",
       "       0., 0., 0., 0., 0., 0., 0., 0., 0., 0., 0., 0., 0., 0., 0., 0., 0.,\n",
       "       0., 0., 0., 0., 0., 0., 0., 0., 1., 1., 1., 1., 1., 1., 1., 1., 1.,\n",
       "       1., 1., 1., 1., 1., 1., 1., 1., 1., 1., 1., 1., 1., 1., 1., 1., 1.,\n",
       "       1., 1., 1., 1., 1., 1., 1., 1., 1., 1., 1., 1., 1., 1., 1., 1., 1.,\n",
       "       1., 1., 1., 1., 1., 1., 1., 1., 1., 1., 1., 1., 1., 1., 1., 1., 1.,\n",
       "       1., 1., 1., 1., 1., 1., 1., 1., 1., 1., 1., 1., 1., 1., 1., 1., 1.,\n",
       "       1., 1., 1., 1., 1., 1., 1., 1., 1., 1., 1., 1., 1., 1., 1., 1., 1.,\n",
       "       1., 1., 1., 1., 1., 1., 1., 1., 1., 1., 1., 1., 1., 1., 1., 1., 1.,\n",
       "       1., 1., 1., 1., 1., 1., 1., 1., 1., 1., 1., 1., 1., 1., 1., 1., 1.,\n",
       "       1., 1., 1., 1., 1., 1., 1., 1., 1., 1., 1., 1., 1., 1., 1., 1., 1.,\n",
       "       1., 1., 1., 1., 1.])"
      ]
     },
     "execution_count": 119,
     "metadata": {},
     "output_type": "execute_result"
    }
   ],
   "source": [
    "y"
   ]
  },
  {
   "cell_type": "markdown",
   "id": "852e3ca0",
   "metadata": {},
   "source": [
    "### Perceptron"
   ]
  },
  {
   "cell_type": "code",
   "execution_count": 120,
   "id": "33e382a3",
   "metadata": {},
   "outputs": [],
   "source": [
    "class Perceptron:\n",
    "    def __init__(self, learning_rate=0.1, epochs=100, weights=None):\n",
    "        self.learning_rate = learning_rate\n",
    "        self.epochs = epochs\n",
    "        self.weights = weights\n",
    "        self.bias = None\n",
    "        self.necessary_epochs = None\n",
    "        self.total_adjust = 0\n",
    "    \n",
    "    def step(self, x):\n",
    "        return 1 if x >= 0 else 0\n",
    "\n",
    "    def check_error(self, y_predicted, y):\n",
    "        return  y_predicted != y\n",
    "\n",
    "    def fit(self, X, y):\n",
    "        if self.weights is None:\n",
    "            self.weights = np.random.uniform(low=-0.5, high=0.5, size=2)\n",
    "        self.bias = 0\n",
    "        self.necessary_epochs = 0\n",
    "        \n",
    "\n",
    "        for _ in range(self.epochs):\n",
    "            self.necessary_epochs +=1\n",
    "            error_counter = 0\n",
    "            for idx, x_i in enumerate(X):\n",
    "                linear_output = np.dot(x_i, self.weights) + self.bias\n",
    "                y_predicted = self.step(linear_output)\n",
    "                if(self.check_error(y_predicted, y[idx])):\n",
    "                    \n",
    "                    update = self.learning_rate * (y[idx] - y_predicted)\n",
    "                    self.weights += update * x_i\n",
    "                    self.bias += update\n",
    "                    error_counter +=1\n",
    "                    self.total_adjust+=1\n",
    "                else:\n",
    "                    pass\n",
    "            if error_counter == 0:\n",
    "                return\n",
    "\n",
    "    def predict(self, X):\n",
    "        return np.array([self.step(np.dot(X[i], self.weights) + self.bias) for i in range(X.shape[0])])\n"
   ]
  },
  {
   "cell_type": "markdown",
   "id": "84349e88",
   "metadata": {},
   "source": [
    "### Testes"
   ]
  },
  {
   "cell_type": "code",
   "execution_count": 121,
   "id": "c887f3ed",
   "metadata": {},
   "outputs": [],
   "source": [
    "# eta e intervalos\n",
    "eta1 = 0.4\n",
    "eta2 = 0.1\n",
    "eta3 = 0.01\n",
    "i1 = [-0.5, 0.5]\n",
    "i2 = [-100, 100]"
   ]
  },
  {
   "cell_type": "code",
   "execution_count": 122,
   "id": "af4b8f33",
   "metadata": {},
   "outputs": [],
   "source": [
    "# Função para realizar as 10 execuções com as 6 configurações\n",
    "def test(eta, i):\n",
    "    min_epochs = float('inf')\n",
    "    list_total_adjust = []\n",
    "\n",
    "    for _ in range(10):\n",
    "        perceptron = Perceptron(learning_rate=eta, weights=np.random.uniform(low=i[0], high=i[1], size=2))\n",
    "        perceptron.fit(X, y)\n",
    "        list_total_adjust.append(perceptron.total_adjust)\n",
    "        min_epochs = min(min_epochs, perceptron.necessary_epochs)\n",
    "\n",
    "    mean = np.mean(list_total_adjust) \n",
    "    std = np.std(list_total_adjust)\n",
    "\n",
    "    return min_epochs, mean, std"
   ]
  },
  {
   "cell_type": "code",
   "execution_count": 123,
   "id": "473e39b3",
   "metadata": {},
   "outputs": [
    {
     "name": "stdout",
     "output_type": "stream",
     "text": [
      "Mínimo de épocas necessárias: 2\n",
      "Média do total de ajustes: 33.8\n",
      "Desvio padrão do total de ajustes: 14.668333238647124\n"
     ]
    }
   ],
   "source": [
    "# eta = 0.4 e intervalo [-0.5, 0.5]\n",
    "min_epochs1, mean1, std1 = test(eta1, i1)\n",
    "print(f\"Mínimo de épocas necessárias: {min_epochs1}\")\n",
    "print(f\"Média do total de ajustes: {mean1}\")\n",
    "print(f\"Desvio padrão do total de ajustes: {std1}\")"
   ]
  },
  {
   "cell_type": "code",
   "execution_count": 124,
   "id": "e237cc0b",
   "metadata": {},
   "outputs": [
    {
     "name": "stdout",
     "output_type": "stream",
     "text": [
      "Mínimo de épocas necessárias: 9\n",
      "Média do total de ajustes: 284.9\n",
      "Desvio padrão do total de ajustes: 148.25144181423667\n"
     ]
    }
   ],
   "source": [
    "# eta = 0.4 e intervalo [-100, 100]\n",
    "min_epochs2, mean2, std2 = test(eta1, i2)\n",
    "print(f\"Mínimo de épocas necessárias: {min_epochs2}\")\n",
    "print(f\"Média do total de ajustes: {mean2}\")\n",
    "print(f\"Desvio padrão do total de ajustes: {std2}\")"
   ]
  },
  {
   "cell_type": "code",
   "execution_count": 125,
   "id": "06df17b9",
   "metadata": {},
   "outputs": [
    {
     "name": "stdout",
     "output_type": "stream",
     "text": [
      "Mínimo de épocas necessárias: 9\n",
      "Média do total de ajustes: 33.4\n",
      "Desvio padrão do total de ajustes: 8.42852300228219\n"
     ]
    }
   ],
   "source": [
    "# eta = 0.1 e intervalo [-0.5, 0.5]\n",
    "min_epochs3, mean3, std3 = test(eta2, i1)\n",
    "print(f\"Mínimo de épocas necessárias: {min_epochs3}\")\n",
    "print(f\"Média do total de ajustes: {mean3}\")\n",
    "print(f\"Desvio padrão do total de ajustes: {std3}\")"
   ]
  },
  {
   "cell_type": "code",
   "execution_count": 126,
   "id": "33715d90",
   "metadata": {},
   "outputs": [
    {
     "name": "stdout",
     "output_type": "stream",
     "text": [
      "Mínimo de épocas necessárias: 14\n",
      "Média do total de ajustes: 1311.6\n",
      "Desvio padrão do total de ajustes: 848.7591177713498\n"
     ]
    }
   ],
   "source": [
    "# eta = 0.1 e intervalo [-100, 100]\n",
    "min_epochs4, mean4, std4 = test(eta2, i2)\n",
    "print(f\"Mínimo de épocas necessárias: {min_epochs4}\")\n",
    "print(f\"Média do total de ajustes: {mean4}\")\n",
    "print(f\"Desvio padrão do total de ajustes: {std4}\")"
   ]
  },
  {
   "cell_type": "code",
   "execution_count": 127,
   "id": "d79a60d0",
   "metadata": {},
   "outputs": [
    {
     "name": "stdout",
     "output_type": "stream",
     "text": [
      "Mínimo de épocas necessárias: 2\n",
      "Média do total de ajustes: 92.9\n",
      "Desvio padrão do total de ajustes: 32.565165437933835\n"
     ]
    }
   ],
   "source": [
    "# eta = 0.01 e intervalo [-0.5, 0.5]\n",
    "min_epochs5, mean5, std5 = test(eta3, i1)\n",
    "print(f\"Mínimo de épocas necessárias: {min_epochs5}\")\n",
    "print(f\"Média do total de ajustes: {mean5}\")\n",
    "print(f\"Desvio padrão do total de ajustes: {std5}\")"
   ]
  },
  {
   "cell_type": "code",
   "execution_count": 128,
   "id": "af260a77",
   "metadata": {},
   "outputs": [
    {
     "name": "stdout",
     "output_type": "stream",
     "text": [
      "Mínimo de épocas necessárias: 58\n",
      "Média do total de ajustes: 12825.4\n",
      "Desvio padrão do total de ajustes: 5150.801902616718\n"
     ]
    }
   ],
   "source": [
    "# eta = 0.01 e intervalo [-100, 100]\n",
    "min_epochs6, mean6, std6 = test(eta3, i2)\n",
    "print(f\"Mínimo de épocas necessárias: {min_epochs6}\")\n",
    "print(f\"Média do total de ajustes: {mean6}\")\n",
    "print(f\"Desvio padrão do total de ajustes: {std6}\")"
   ]
  },
  {
   "cell_type": "markdown",
   "id": "5d4754c1",
   "metadata": {},
   "source": [
    "##### Tabela de resultados:"
   ]
  },
  {
   "cell_type": "code",
   "execution_count": 129,
   "id": "db4fdf0e",
   "metadata": {},
   "outputs": [
    {
     "name": "stdout",
     "output_type": "stream",
     "text": [
      "+---------------------+--------------------+-----------------------+------------------------------------------+\n",
      "  Taxa de Aprendizado   Intervalo de Pesos   Quantidade de Ajustes   Menor Número de Épocas para Convergência  \n",
      "+---------------------+--------------------+-----------------------+------------------------------------------+\n",
      "          0.4              [-0.5, 0.5]            33.8 += 14.7                          2                      \n",
      "          0.4              [-100, 100]           284.9 += 148.3                         9                      \n",
      "          0.1              [-0.5, 0.5]            33.4 += 8.4                           9                      \n",
      "          0.1              [-100, 100]          1311.6 += 848.8                         14                     \n",
      "          0.01             [-0.5, 0.5]            92.9 += 32.6                          2                      \n",
      "          0.01             [-100, 100]         12825.4 += 5150.8                        58                     \n",
      "+---------------------+--------------------+-----------------------+------------------------------------------+\n"
     ]
    }
   ],
   "source": [
    "table = PrettyTable()\n",
    "\n",
    "# table.set_style(TableStyle.MARKDOWN)\n",
    "table.vertical_char = \" \"\n",
    "\n",
    "table.field_names = [\"Taxa de Aprendizado\", \"Intervalo de Pesos\", \"Quantidade de Ajustes\", \"Menor Número de Épocas para Convergência\"]\n",
    "\n",
    "table.add_row([eta1, i1, f\"{mean1} += {std1:.1f}\", min_epochs1])\n",
    "table.add_row([eta1, i2, f\"{mean2} += {std2:.1f}\", min_epochs2])\n",
    "table.add_row([eta2, i1, f\"{mean3} += {std3:.1f}\", min_epochs3])\n",
    "table.add_row([eta2, i2, f\"{mean4} += {std4:.1f}\", min_epochs4])\n",
    "table.add_row([eta3, i1, f\"{mean5} += {std5:.1f}\", min_epochs5])\n",
    "table.add_row([eta3, i2, f\"{mean6} += {std6:.1f}\", min_epochs6])\n",
    "\n",
    "print(table)"
   ]
  }
 ],
 "metadata": {
  "kernelspec": {
   "display_name": "base",
   "language": "python",
   "name": "python3"
  },
  "language_info": {
   "codemirror_mode": {
    "name": "ipython",
    "version": 3
   },
   "file_extension": ".py",
   "mimetype": "text/x-python",
   "name": "python",
   "nbconvert_exporter": "python",
   "pygments_lexer": "ipython3",
   "version": "3.12.3"
  }
 },
 "nbformat": 4,
 "nbformat_minor": 5
}
